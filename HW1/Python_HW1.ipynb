{
 "cells": [
  {
   "cell_type": "code",
   "execution_count": null,
   "metadata": {},
   "outputs": [],
   "source": [
    "# 1.輸入月份1~12月，判斷相對應的季節春、夏、秋、冬並印出。若不在此範圍則印出”輸入錯誤”。\\\n",
    "year = int(input(\"請輸入月份: \"))\n",
    "if year in (1, 2, 3):\n",
    "    print(\"春啦\")\n",
    "elif year in (4, 5, 6):\n",
    "    print(\"夏啦\")\n",
    "elif year in (7, 8, 9):\n",
    "    print(\"秋啦\")\n",
    "elif year in (10, 11, 12):\n",
    "    print(\"冬啦\")\n",
    "else:\n",
    "    print(\"輸入錯誤\")\n"
   ]
  },
  {
   "cell_type": "code",
   "execution_count": null,
   "metadata": {},
   "outputs": [],
   "source": [
    "# 2.輸入便利商店工讀生的工作時數，並計算其薪資。\n",
    "#   60小時以內，時薪120元。\n",
    "#   61~80小時，以時薪1.25倍計算。\n",
    "#   81小時以上，以時薪1.5倍計算。\n",
    "#   說明：薪資以累計方式計算。若工時為90小時，則薪資為60*120 + 20*120*1.25 + 10*120*1.5元。\n",
    "workhour = int(input(\"請輸入你的工作時數: \"))\n",
    "if workhour <= 60:\n",
    "    print(\"薪資 = \", 120*workhour, \"元\")\n",
    "elif workhour in range(61, 80):\n",
    "    print(\"薪資 = \", 120*60 + 120*1.25*(workhour - 60), \"元\")\n",
    "elif workhour >= 81:\n",
    "    print(\"薪資 = \", 120*60 + 120*1.25*20 + 120*1.5*(workhour - 80), \"元\")"
   ]
  },
  {
   "cell_type": "code",
   "execution_count": null,
   "metadata": {},
   "outputs": [],
   "source": [
    "# 3.輸入何種用電和度數，計算出需繳之電費。電力公司使用累計方式來計算電費，分工業用電及家庭用電。\n",
    "elec = input(\"請輸入用電種類: \")\n",
    "kwh = eval(input(\"請輸入使用度數: \"))  # 理論上要排掉負數\n",
    "if kwh < 0:\n",
    "    print(\"請輸入正數\")\n",
    "else:\n",
    "    print(\"請稍後\")\n",
    "if elec == \"家庭用電\":\n",
    "    if kwh <= 240:\n",
    "        print(\"用電共\", 0.15*kwh, \"度\")\n",
    "    elif kwh in range(241, 540):\n",
    "        print(\"用電共\", 0.15*240 + 0.25*(kwh - 240), \"度\")\n",
    "    elif kwh > 540:\n",
    "        print(\"用電共\", 0.15 * 240 + 0.25 * 300 + 0.45*(kwh - 540), \"度\")\n",
    "elif elec == \"工業用電\":\n",
    "    if kwh <= 240:\n",
    "        print(\"用電共\", 0.45*kwh, \"度\")\n",
    "    elif kwh in range(241, 540):\n",
    "        print(\"用電共\", 0.45*kwh, \"度\")\n",
    "    elif kwh > 540:\n",
    "        print(\"用電共\", 0.45*kwh, \"度\")\n",
    "else:\n",
    "    print(\"用電種類輸入錯誤!\")"
   ]
  },
  {
   "cell_type": "code",
   "execution_count": null,
   "metadata": {},
   "outputs": [],
   "source": [
    "# 4.輸入一西元年，如2015。判斷此年份是否為閏年。提示：每四年一閏，每百年不閏，每四百年一閏，每四千年不閏。\n",
    "year = int(input(\"請輸入西元年:\"))\n",
    "if year % 4000 == 0:\n",
    "    print(year, \"不是閏年\")\n",
    "elif year % 400 == 0:\n",
    "    print(year, \"是閏年\")\n",
    "elif year % 100 == 0:\n",
    "    print(year, \"不是閏年\")\n",
    "elif year % 4 == 0:\n",
    "    print(year, \"是閏年\")\n",
    "else:\n",
    "    print(\"你是外星人吧\")"
   ]
  },
  {
   "cell_type": "code",
   "execution_count": 1,
   "metadata": {},
   "outputs": [
    {
     "ename": "StdinNotImplementedError",
     "evalue": "raw_input was called, but this frontend does not support input requests.",
     "traceback": [
      "\u001b[0;31m---------------------------------------------------------------------------\u001b[0m",
      "\u001b[0;31mStdinNotImplementedError\u001b[0m                  Traceback (most recent call last)",
      "\u001b[0;32m<ipython-input-1-2a34898207a3>\u001b[0m in \u001b[0;36m<module>\u001b[0;34m()\u001b[0m\n\u001b[1;32m      1\u001b[0m \u001b[0;31m# 5.輸入在某商店購物應付金額與實付金額。實付金額小於應付金額，則印出”金額不足”。實付金額等於應付金額，則印出”不必找錢”。實付金額大於應付金額，則輸出找回金額最少的鈔票數和錢幣數。\u001b[0m\u001b[0;34m\u001b[0m\u001b[0;34m\u001b[0m\u001b[0m\n\u001b[0;32m----> 2\u001b[0;31m \u001b[0mpayable\u001b[0m \u001b[0;34m=\u001b[0m \u001b[0mint\u001b[0m\u001b[0;34m(\u001b[0m\u001b[0minput\u001b[0m\u001b[0;34m(\u001b[0m\u001b[0;34m\"請輸入應付金額:\"\u001b[0m\u001b[0;34m)\u001b[0m\u001b[0;34m)\u001b[0m\u001b[0;34m\u001b[0m\u001b[0m\n\u001b[0m\u001b[1;32m      3\u001b[0m \u001b[0mpay\u001b[0m \u001b[0;34m=\u001b[0m \u001b[0mint\u001b[0m\u001b[0;34m(\u001b[0m\u001b[0minput\u001b[0m\u001b[0;34m(\u001b[0m\u001b[0;34m\"請輸入實付金額:\"\u001b[0m\u001b[0;34m)\u001b[0m\u001b[0;34m)\u001b[0m\u001b[0;34m\u001b[0m\u001b[0m\n\u001b[1;32m      4\u001b[0m \u001b[0;32mif\u001b[0m \u001b[0mpay\u001b[0m \u001b[0;34m<\u001b[0m \u001b[0mpayable\u001b[0m\u001b[0;34m:\u001b[0m\u001b[0;34m\u001b[0m\u001b[0m\n\u001b[1;32m      5\u001b[0m     \u001b[0mprint\u001b[0m\u001b[0;34m(\u001b[0m\u001b[0;34m\"金額不足\"\u001b[0m\u001b[0;34m)\u001b[0m\u001b[0;34m\u001b[0m\u001b[0m\n",
      "\u001b[0;32mE:\\Python\\workspace\\venv\\lib\\site-packages\\ipykernel\\kernelbase.py\u001b[0m in \u001b[0;36mraw_input\u001b[0;34m(self, prompt)\u001b[0m\n\u001b[1;32m    846\u001b[0m         \u001b[0;32mif\u001b[0m \u001b[0;32mnot\u001b[0m \u001b[0mself\u001b[0m\u001b[0;34m.\u001b[0m\u001b[0m_allow_stdin\u001b[0m\u001b[0;34m:\u001b[0m\u001b[0;34m\u001b[0m\u001b[0m\n\u001b[1;32m    847\u001b[0m             raise StdinNotImplementedError(\n\u001b[0;32m--> 848\u001b[0;31m                 \u001b[0;34m\"raw_input was called, but this frontend does not support input requests.\"\u001b[0m\u001b[0;34m\u001b[0m\u001b[0m\n\u001b[0m\u001b[1;32m    849\u001b[0m             )\n\u001b[1;32m    850\u001b[0m         return self._input_request(str(prompt),\n",
      "\u001b[0;31mStdinNotImplementedError\u001b[0m: raw_input was called, but this frontend does not support input requests."
     ],
     "output_type": "error"
    }
   ],
   "source": [
    "# 5.輸入在某商店購物應付金額與實付金額。實付金額小於應付金額，則印出”金額不足”。實付金額等於應付金額，則印出”不必找錢”。實付金額大於應付金額，則輸出找回金額最少的鈔票數和錢幣數。\n",
    "payable = int(input(\"請輸入應付金額:\"))\n",
    "pay = int(input(\"請輸入實付金額:\"))\n",
    "if pay < payable:\n",
    "    print(\"金額不足\")\n",
    "elif pay == payable:\n",
    "    print(\"不必找錢\")\n",
    "else:\n",
    "    print(\"應找回\")\n",
    "    if (pay - payable) >= 500:\n",
    "        print((pay - payable) // 500, \"張500元\")\n",
    "    if (pay - payable) % 500 >= 100:\n",
    "        print(((pay - payable) % 500) // 100, \"張100元\")\n",
    "    if (pay - payable) % 100 >= 50:\n",
    "        print(((pay - payable) % 100) // 50, \"個50元硬幣\")\n",
    "    if (pay - payable) % 50 >= 10:\n",
    "        print(((pay - payable) % 50) // 10, \"個10元硬幣\")\n",
    "    if (pay - payable) % 10 >= 5:\n",
    "        print(((pay - payable) % 10) // 5, \"個5元硬幣\")\n",
    "    if (pay - payable) % 5 >= 1:\n",
    "        print(((pay - payable) % 5) // 1, \"個1元硬幣\")\n",
    "# 不確定是否要加else狀況"
   ]
  },
  {
   "cell_type": "code",
   "execution_count": null,
   "metadata": {},
   "outputs": [],
   "source": [
    "# 6.一元二次方程式ax2+bx+c=0。輸入a, b, c三值，並計算方程式的根。b2-4ac > 0，有兩個不相等的實根。b2-4ac = 0，有兩個不相等的實根。b2-4ac < 0，則印出”沒有實根\"。\n",
    "import math\n",
    "a = eval(input(\"請輸入a的值: \"))\n",
    "b = eval(input(\"請輸入b的值: \"))\n",
    "c = eval(input(\"請輸入c的值: \"))\n",
    "if (b**2) - (4*a*c) > 0:\n",
    "    print(\"有兩個不相等的實根\")\n",
    "    print(\"x = \", -b + math.sqrt((b**2) - (4*a*c))/(2*a))\n",
    "    print(\"x = \",  -b - math.sqrt((b**2) - (4*a*c))/(2*a))\n",
    "elif (b**2) - (4*a*c) == 0:\n",
    "    print(\"有兩個相等的實根\")\n",
    "    print(\"x = \", -b/(2*a))\n",
    "elif (b**2) - (4*a*c) < 0:\n",
    "    print(\"沒有實根\")"
   ]
  }
 ],
 "metadata": {
  "kernelspec": {
   "display_name": "Python 3",
   "language": "python",
   "name": "python3"
  },
  "language_info": {
   "codemirror_mode": {
    "name": "ipython",
    "version": 3
   },
   "file_extension": ".py",
   "mimetype": "text/x-python",
   "name": "python",
   "nbconvert_exporter": "python",
   "pygments_lexer": "ipython3",
   "version": "3.6.0"
  }
 },
 "nbformat": 4,
 "nbformat_minor": 2
}
